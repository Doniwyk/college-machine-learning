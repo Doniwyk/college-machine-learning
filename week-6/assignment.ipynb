{
 "cells": [
  {
   "cell_type": "markdown",
   "metadata": {},
   "source": [
    "# Assignment"
   ]
  },
  {
   "cell_type": "code",
   "execution_count": 1,
   "metadata": {},
   "outputs": [],
   "source": [
    "import pandas as pd\n",
    "\n",
    "from sklearn.tree import DecisionTreeClassifier\n",
    "from sklearn.ensemble import AdaBoostClassifier\n",
    "from sklearn.ensemble import RandomForestClassifier\n",
    "from sklearn.ensemble import VotingClassifier\n",
    "from sklearn.svm import SVC\n",
    "\n",
    "from sklearn.model_selection import train_test_split, GridSearchCV\n",
    "from sklearn.metrics import accuracy_score\n",
    "from sklearn.preprocessing import StandardScaler\n",
    "from sklearn.linear_model import LogisticRegression"
   ]
  },
  {
   "cell_type": "markdown",
   "metadata": {},
   "source": [
    "## Tugas 1"
   ]
  },
  {
   "cell_type": "markdown",
   "metadata": {},
   "source": [
    "Terdapat dataset mushroom. Berdasarkan dataset yang tersebut, bandingkan peforma antara algoritma Decision Tree dan RandomForest. Gunakan tunning hyperparameter untuk mendapatkan parameter dan akurasi yang terbaik."
   ]
  },
  {
   "cell_type": "code",
   "execution_count": 2,
   "metadata": {},
   "outputs": [
    {
     "name": "stdout",
     "output_type": "stream",
     "text": [
      "Best Decision Tree Accuracy: 1.0\n",
      "Best RandomForest Accuracy: 1.0\n"
     ]
    }
   ],
   "source": [
    "# Load the dataset\n",
    "df = pd.read_csv('data/mushrooms.csv')\n",
    "\n",
    "# Preprocess the data\n",
    "X = df.drop('class', axis=1)\n",
    "y = df['class']\n",
    "\n",
    "# Convert categorical variables to dummy/indicator variables\n",
    "X = pd.get_dummies(X)\n",
    "\n",
    "# Split the data into training and testing sets\n",
    "X_train, X_test, y_train, y_test = train_test_split(X, y, test_size=0.3, random_state=42)\n",
    "\n",
    "# Define the parameter grid for Decision Tree\n",
    "param_grid_dt = {\n",
    "    'max_depth': [None, 10, 20, 30],\n",
    "    'min_samples_split': [2, 10, 20],\n",
    "    'min_samples_leaf': [1, 5, 10]\n",
    "}\n",
    "\n",
    "# Define the parameter grid for RandomForest\n",
    "param_grid_rf = {\n",
    "    'n_estimators': [100, 200, 300],\n",
    "    'max_depth': [None, 10, 20, 30],\n",
    "    'min_samples_split': [2, 10, 20],\n",
    "    'min_samples_leaf': [1, 5, 10]\n",
    "}\n",
    "\n",
    "# Train and tune the Decision Tree model\n",
    "dt = DecisionTreeClassifier(random_state=42)\n",
    "grid_search_dt = GridSearchCV(dt, param_grid_dt, cv=5, scoring='accuracy')\n",
    "grid_search_dt.fit(X_train, y_train)\n",
    "best_dt = grid_search_dt.best_estimator_\n",
    "\n",
    "# Train and tune the RandomForest model\n",
    "rf = RandomForestClassifier(random_state=42)\n",
    "grid_search_rf = GridSearchCV(rf, param_grid_rf, cv=5, scoring='accuracy')\n",
    "grid_search_rf.fit(X_train, y_train)\n",
    "best_rf = grid_search_rf.best_estimator_\n",
    "\n",
    "# Evaluate the models\n",
    "y_pred_dt = best_dt.predict(X_test)\n",
    "y_pred_rf = best_rf.predict(X_test)\n",
    "\n",
    "accuracy_dt = accuracy_score(y_test, y_pred_dt)\n",
    "accuracy_rf = accuracy_score(y_test, y_pred_rf)\n",
    "\n",
    "print(f'Best Decision Tree Accuracy: {accuracy_dt}')\n",
    "print(f'Best RandomForest Accuracy: {accuracy_rf}')"
   ]
  },
  {
   "cell_type": "markdown",
   "metadata": {},
   "source": [
    "## Tugas 2"
   ]
  },
  {
   "cell_type": "markdown",
   "metadata": {},
   "source": [
    "Terdapat dataset mushroom. Berdasarkan dataset tersebut, bandingkan peforma antara algoritma Decision Tree dan AdaBoost. Gunakan tunning hyperparameter untuk mendapatkan parameter dan akurasi yang terbaik."
   ]
  },
  {
   "cell_type": "code",
   "execution_count": 3,
   "metadata": {},
   "outputs": [
    {
     "name": "stdout",
     "output_type": "stream",
     "text": [
      "Best AdaBoost Accuracy: 1.0\n"
     ]
    }
   ],
   "source": [
    "# Define the parameter grid for AdaBoost\n",
    "param_grid_ab = {\n",
    "    'n_estimators': [50, 100, 200],\n",
    "    'learning_rate': [0.01, 0.1, 1]\n",
    "}\n",
    "\n",
    "# Train and tune the AdaBoost model\n",
    "ab = AdaBoostClassifier(estimator=DecisionTreeClassifier(random_state=42), algorithm='SAMME', random_state=42)\n",
    "grid_search_ab = GridSearchCV(ab, param_grid_ab, cv=5, scoring='accuracy')\n",
    "grid_search_ab.fit(X_train, y_train)\n",
    "best_ab = grid_search_ab.best_estimator_\n",
    "\n",
    "# Evaluate the AdaBoost model\n",
    "y_pred_ab = best_ab.predict(X_test)\n",
    "accuracy_ab = accuracy_score(y_test, y_pred_ab)\n",
    "\n",
    "print(f'Best AdaBoost Accuracy: {accuracy_ab}')"
   ]
  },
  {
   "cell_type": "markdown",
   "metadata": {},
   "source": [
    "## Tugas 3"
   ]
  },
  {
   "cell_type": "markdown",
   "metadata": {},
   "source": [
    "Dengan menggunakan dataset diabetes, buatlah ensemble voting dengan algoritma\n",
    "\n",
    "1. Logistic Regression\n",
    "2. SVM kernel polynomial\n",
    "3. Decission Tree"
   ]
  },
  {
   "cell_type": "code",
   "execution_count": 4,
   "metadata": {},
   "outputs": [
    {
     "name": "stdout",
     "output_type": "stream",
     "text": [
      "Voting Classifier Accuracy: 0.7186147186147186\n"
     ]
    }
   ],
   "source": [
    "# Load the dataset\n",
    "df_diabetes = pd.read_csv('./data/diabetes.csv')\n",
    "\n",
    "# Preprocess the data\n",
    "X_diabetes = df_diabetes.drop('Outcome', axis=1)\n",
    "y_diabetes = df_diabetes['Outcome']\n",
    "\n",
    "# Split the data into training and testing sets\n",
    "X_train_diabetes, X_test_diabetes, y_train_diabetes, y_test_diabetes = train_test_split(X_diabetes, y_diabetes, test_size=0.3, random_state=42)\n",
    "\n",
    "# Standardize the features\n",
    "scaler = StandardScaler()\n",
    "X_train_diabetes = scaler.fit_transform(X_train_diabetes)\n",
    "X_test_diabetes = scaler.transform(X_test_diabetes)\n",
    "\n",
    "# Define the classifiers\n",
    "log_clf = LogisticRegression(random_state=42)\n",
    "svm_clf = SVC(kernel='poly', probability=True, random_state=42)\n",
    "dt_clf = DecisionTreeClassifier(random_state=42)\n",
    "\n",
    "# Define the parameter grids for hyperparameter tuning\n",
    "param_grid_log = {\n",
    "    'C': [0.1, 1, 10, 100]\n",
    "}\n",
    "\n",
    "param_grid_svm = {\n",
    "    'C': [0.1, 1, 10, 100],\n",
    "    'degree': [2, 3, 4]\n",
    "}\n",
    "\n",
    "param_grid_dt = {\n",
    "    'max_depth': [None, 10, 20, 30],\n",
    "    'min_samples_split': [2, 10, 20],\n",
    "    'min_samples_leaf': [1, 5, 10]\n",
    "}\n",
    "\n",
    "# Perform GridSearchCV for each classifier\n",
    "grid_search_log = GridSearchCV(log_clf, param_grid_log, cv=5, scoring='accuracy')\n",
    "grid_search_log.fit(X_train_diabetes, y_train_diabetes)\n",
    "best_log_clf = grid_search_log.best_estimator_\n",
    "\n",
    "grid_search_svm = GridSearchCV(svm_clf, param_grid_svm, cv=5, scoring='accuracy')\n",
    "grid_search_svm.fit(X_train_diabetes, y_train_diabetes)\n",
    "best_svm_clf = grid_search_svm.best_estimator_\n",
    "\n",
    "grid_search_dt = GridSearchCV(dt_clf, param_grid_dt, cv=5, scoring='accuracy')\n",
    "grid_search_dt.fit(X_train_diabetes, y_train_diabetes)\n",
    "best_dt_clf = grid_search_dt.best_estimator_\n",
    "\n",
    "# Create the VotingClassifier\n",
    "voting_clf = VotingClassifier(\n",
    "    estimators=[('lr', best_log_clf), ('svc', best_svm_clf), ('dt', best_dt_clf)],\n",
    "    voting='soft'\n",
    ")\n",
    "\n",
    "# Train the VotingClassifier\n",
    "voting_clf.fit(X_train_diabetes, y_train_diabetes)\n",
    "\n",
    "# Evaluate the VotingClassifier\n",
    "y_pred_voting = voting_clf.predict(X_test_diabetes)\n",
    "accuracy_voting = accuracy_score(y_test_diabetes, y_pred_voting)\n",
    "\n",
    "print(f'Voting Classifier Accuracy: {accuracy_voting}')"
   ]
  }
 ],
 "metadata": {
  "kernelspec": {
   "display_name": "Python 3",
   "language": "python",
   "name": "python3"
  },
  "language_info": {
   "codemirror_mode": {
    "name": "ipython",
    "version": 3
   },
   "file_extension": ".py",
   "mimetype": "text/x-python",
   "name": "python",
   "nbconvert_exporter": "python",
   "pygments_lexer": "ipython3",
   "version": "3.12.4"
  }
 },
 "nbformat": 4,
 "nbformat_minor": 2
}
